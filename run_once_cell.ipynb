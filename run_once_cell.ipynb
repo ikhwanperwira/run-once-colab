{
  "nbformat": 4,
  "nbformat_minor": 0,
  "metadata": {
    "colab": {
      "provenance": [],
      "authorship_tag": "ABX9TyPi/bnVwRqWSr4DOnIg8MxX",
      "include_colab_link": true
    },
    "kernelspec": {
      "name": "python3",
      "display_name": "Python 3"
    },
    "language_info": {
      "name": "python"
    }
  },
  "cells": [
    {
      "cell_type": "markdown",
      "metadata": {
        "id": "view-in-github",
        "colab_type": "text"
      },
      "source": [
        "<a href=\"https://colab.research.google.com/github/wawan-ikhwan/run-once-colab/blob/main/run_once_cell.ipynb\" target=\"_parent\"><img src=\"https://colab.research.google.com/assets/colab-badge.svg\" alt=\"Open In Colab\"/></a>"
      ]
    },
    {
      "cell_type": "code",
      "execution_count": 1,
      "metadata": {
        "id": "tML7bYZIUgEs"
      },
      "outputs": [],
      "source": [
        "#@title Define `run_once` cell magic\n",
        "from IPython.core.magic import register_cell_magic\n",
        "from IPython.display import display, HTML\n",
        "from google.colab import output\n",
        "from hashlib import sha1\n",
        "import time\n",
        "import os\n",
        "\n",
        "@register_cell_magic\n",
        "def run_once(line: str, cell: str):\n",
        "  \"\"\"\n",
        "  This is a custom cell magic command in order to prevent multiple runs, so the cell must be run once for every runtime.\n",
        "  If the cell has already run before, then it will display the history output.\n",
        "  Usage: %%run_once\n",
        "  \"\"\"\n",
        "  try:\n",
        "\n",
        "    # Create input-output tracker directory\n",
        "    if not os.path.exists('./.run_once'):\n",
        "      os.makedirs('./.run_once')\n",
        "\n",
        "    # Get cell id by cell changes with SHA-1 as identifier\n",
        "    cell_id = sha1(cell.encode('utf-8')).hexdigest()\n",
        "\n",
        "    # Check wether cell_id.html already exists. (Imply the cell already run)\n",
        "    if os.path.exists(f'./.run_once/{cell_id}.html'):\n",
        "      with open(f'./.run_once/{cell_id}.html', 'r') as file_cell_output:\n",
        "        html_output = file_cell_output.read()\n",
        "      last_created = time.strftime('%Y-%m-%d %H:%M:%S UTC+00', time.gmtime(os.path.getctime(f'./.run_once/{cell_id}.html')))\n",
        "      print('This cell already ran before, last run was:', last_created, ', displaying history output...\\n')\n",
        "      display(HTML(html_output))\n",
        "      return\n",
        "\n",
        "    # Execute actual code.\n",
        "    exec(cell, globals(), locals())\n",
        "\n",
        "    # After code has executed, it will contains some output. Save it!\n",
        "    html_output = output.eval_js('document.getElementById(\"output-area\").innerHTML;')\n",
        "    with open(f'./.run_once/{cell_id}.html', 'w') as file_cell_output:\n",
        "      file_cell_output.write(html_output)\n",
        "\n",
        "    # Also save the cell code for archive purpose\n",
        "    with open(f'./.run_once/{cell_id}.py', 'w') as file_cell_input:\n",
        "      file_cell_input.write('cell')\n",
        "\n",
        "  except Exception as e:\n",
        "    print(f\"run_once error: {str(e)}\")"
      ]
    },
    {
      "cell_type": "code",
      "source": [
        "#@title This is the first run.\n",
        "%%run_once\n",
        "\n",
        "print(\"This is an example of cell that shouldn't be called multiple times.\")"
      ],
      "metadata": {
        "colab": {
          "base_uri": "https://localhost:8080/",
          "height": 35
        },
        "id": "svYi-r65bdln",
        "outputId": "2f4b0bb1-37b6-4ab5-9a0e-0a1f84124500"
      },
      "execution_count": 2,
      "outputs": [
        {
          "output_type": "stream",
          "name": "stdout",
          "text": [
            "This is an example of cell that shouldn't be called multiple times.\n"
          ]
        }
      ]
    },
    {
      "cell_type": "code",
      "source": [
        "#@title This is the second run.\n",
        "%%run_once\n",
        "\n",
        "print(\"This is an example of cell that shouldn't be called multiple times.\")"
      ],
      "metadata": {
        "colab": {
          "base_uri": "https://localhost:8080/",
          "height": 70
        },
        "id": "WmAcqAdXbl9b",
        "outputId": "8441ac5b-205f-4cc2-8cba-ace69bac9660"
      },
      "execution_count": 3,
      "outputs": [
        {
          "output_type": "stream",
          "name": "stdout",
          "text": [
            "This cell already ran before, last run was: 2024-01-14 14:54:56 UTC+00 , displaying history output...\n",
            "\n"
          ]
        },
        {
          "output_type": "display_data",
          "data": {
            "text/plain": [
              "<IPython.core.display.HTML object>"
            ],
            "text/html": [
              "<span id=\"output-header\"> </span><div id=\"output-body\"><div class=\"stream output-id-1\"><div class=\"output_subarea output_text\"><pre>This is an example of cell that shouldn't be called multiple times.\n",
              "</pre></div></div></div><span id=\"output-footer\"></span>"
            ]
          },
          "metadata": {}
        }
      ]
    }
  ]
}